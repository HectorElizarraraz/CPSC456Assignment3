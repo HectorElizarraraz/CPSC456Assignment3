{
  "nbformat": 4,
  "nbformat_minor": 0,
  "metadata": {
    "kernelspec": {
      "display_name": "Python 3",
      "language": "python",
      "name": "python3"
    },
    "language_info": {
      "codemirror_mode": {
        "name": "ipython",
        "version": 3
      },
      "file_extension": ".py",
      "mimetype": "text/x-python",
      "name": "python",
      "nbconvert_exporter": "python",
      "pygments_lexer": "ipython3",
      "version": "3.8.3"
    },
    "colab": {
      "name": "Project 1 Linear Regression.ipynb",
      "provenance": [],
      "collapsed_sections": [],
      "include_colab_link": true
    }
  },
  "cells": [
    {
      "cell_type": "markdown",
      "metadata": {
        "id": "view-in-github",
        "colab_type": "text"
      },
      "source": [
        "<a href=\"https://colab.research.google.com/github/HectorElizarraraz/CPSC456Assignment3/blob/main/Project_1_Linear_Regression.ipynb\" target=\"_parent\"><img src=\"https://colab.research.google.com/assets/colab-badge.svg\" alt=\"Open In Colab\"/></a>"
      ]
    },
    {
      "cell_type": "markdown",
      "metadata": {
        "id": "dv8iJkAvBe25"
      },
      "source": [
        "### This project was completed by Hector Elizarraraz and Marco Salinas"
      ]
    },
    {
      "cell_type": "markdown",
      "metadata": {
        "id": "DU6p-Kfn-KXs"
      },
      "source": [
        "###1. Load and examine the Boston dataset features, target values and description### "
      ]
    },
    {
      "cell_type": "code",
      "metadata": {
        "id": "ci8bS1qqBe28",
        "colab": {
          "base_uri": "https://localhost:8080/",
          "height": 535
        },
        "outputId": "f7ed728d-6ad8-4edf-81b7-03d761983385"
      },
      "source": [
        "from sklearn.datasets import load_boston\n",
        "import pandas as pd\n",
        "\n",
        "dataSet = load_boston()\n",
        "\n",
        "\n",
        "# print(\"Features:\")\n",
        "# print(dataSet.feature_names)\n",
        "# print(\"Target values:\")\n",
        "# print(dataSet.target)\n",
        "# print(\"Description:\")\n",
        "# print(dataSet.DESCR)\n",
        "\n",
        "dataFrame_x = pd.DataFrame(dataSet.data, columns = dataSet.feature_names)\n",
        "dataFrame_y =pd.DataFrame(dataSet.target)\n",
        "\n",
        "print(dataFrame_x)\n",
        "dataFrame_x.describe()\n",
        "\n"
      ],
      "execution_count": null,
      "outputs": [
        {
          "output_type": "stream",
          "text": [
            "        CRIM    ZN  INDUS  CHAS    NOX  ...  RAD    TAX  PTRATIO       B  LSTAT\n",
            "0    0.00632  18.0   2.31   0.0  0.538  ...  1.0  296.0     15.3  396.90   4.98\n",
            "1    0.02731   0.0   7.07   0.0  0.469  ...  2.0  242.0     17.8  396.90   9.14\n",
            "2    0.02729   0.0   7.07   0.0  0.469  ...  2.0  242.0     17.8  392.83   4.03\n",
            "3    0.03237   0.0   2.18   0.0  0.458  ...  3.0  222.0     18.7  394.63   2.94\n",
            "4    0.06905   0.0   2.18   0.0  0.458  ...  3.0  222.0     18.7  396.90   5.33\n",
            "..       ...   ...    ...   ...    ...  ...  ...    ...      ...     ...    ...\n",
            "501  0.06263   0.0  11.93   0.0  0.573  ...  1.0  273.0     21.0  391.99   9.67\n",
            "502  0.04527   0.0  11.93   0.0  0.573  ...  1.0  273.0     21.0  396.90   9.08\n",
            "503  0.06076   0.0  11.93   0.0  0.573  ...  1.0  273.0     21.0  396.90   5.64\n",
            "504  0.10959   0.0  11.93   0.0  0.573  ...  1.0  273.0     21.0  393.45   6.48\n",
            "505  0.04741   0.0  11.93   0.0  0.573  ...  1.0  273.0     21.0  396.90   7.88\n",
            "\n",
            "[506 rows x 13 columns]\n"
          ],
          "name": "stdout"
        },
        {
          "output_type": "execute_result",
          "data": {
            "text/html": [
              "<div>\n",
              "<style scoped>\n",
              "    .dataframe tbody tr th:only-of-type {\n",
              "        vertical-align: middle;\n",
              "    }\n",
              "\n",
              "    .dataframe tbody tr th {\n",
              "        vertical-align: top;\n",
              "    }\n",
              "\n",
              "    .dataframe thead th {\n",
              "        text-align: right;\n",
              "    }\n",
              "</style>\n",
              "<table border=\"1\" class=\"dataframe\">\n",
              "  <thead>\n",
              "    <tr style=\"text-align: right;\">\n",
              "      <th></th>\n",
              "      <th>CRIM</th>\n",
              "      <th>ZN</th>\n",
              "      <th>INDUS</th>\n",
              "      <th>CHAS</th>\n",
              "      <th>NOX</th>\n",
              "      <th>RM</th>\n",
              "      <th>AGE</th>\n",
              "      <th>DIS</th>\n",
              "      <th>RAD</th>\n",
              "      <th>TAX</th>\n",
              "      <th>PTRATIO</th>\n",
              "      <th>B</th>\n",
              "      <th>LSTAT</th>\n",
              "    </tr>\n",
              "  </thead>\n",
              "  <tbody>\n",
              "    <tr>\n",
              "      <th>count</th>\n",
              "      <td>506.000000</td>\n",
              "      <td>506.000000</td>\n",
              "      <td>506.000000</td>\n",
              "      <td>506.000000</td>\n",
              "      <td>506.000000</td>\n",
              "      <td>506.000000</td>\n",
              "      <td>506.000000</td>\n",
              "      <td>506.000000</td>\n",
              "      <td>506.000000</td>\n",
              "      <td>506.000000</td>\n",
              "      <td>506.000000</td>\n",
              "      <td>506.000000</td>\n",
              "      <td>506.000000</td>\n",
              "    </tr>\n",
              "    <tr>\n",
              "      <th>mean</th>\n",
              "      <td>3.613524</td>\n",
              "      <td>11.363636</td>\n",
              "      <td>11.136779</td>\n",
              "      <td>0.069170</td>\n",
              "      <td>0.554695</td>\n",
              "      <td>6.284634</td>\n",
              "      <td>68.574901</td>\n",
              "      <td>3.795043</td>\n",
              "      <td>9.549407</td>\n",
              "      <td>408.237154</td>\n",
              "      <td>18.455534</td>\n",
              "      <td>356.674032</td>\n",
              "      <td>12.653063</td>\n",
              "    </tr>\n",
              "    <tr>\n",
              "      <th>std</th>\n",
              "      <td>8.601545</td>\n",
              "      <td>23.322453</td>\n",
              "      <td>6.860353</td>\n",
              "      <td>0.253994</td>\n",
              "      <td>0.115878</td>\n",
              "      <td>0.702617</td>\n",
              "      <td>28.148861</td>\n",
              "      <td>2.105710</td>\n",
              "      <td>8.707259</td>\n",
              "      <td>168.537116</td>\n",
              "      <td>2.164946</td>\n",
              "      <td>91.294864</td>\n",
              "      <td>7.141062</td>\n",
              "    </tr>\n",
              "    <tr>\n",
              "      <th>min</th>\n",
              "      <td>0.006320</td>\n",
              "      <td>0.000000</td>\n",
              "      <td>0.460000</td>\n",
              "      <td>0.000000</td>\n",
              "      <td>0.385000</td>\n",
              "      <td>3.561000</td>\n",
              "      <td>2.900000</td>\n",
              "      <td>1.129600</td>\n",
              "      <td>1.000000</td>\n",
              "      <td>187.000000</td>\n",
              "      <td>12.600000</td>\n",
              "      <td>0.320000</td>\n",
              "      <td>1.730000</td>\n",
              "    </tr>\n",
              "    <tr>\n",
              "      <th>25%</th>\n",
              "      <td>0.082045</td>\n",
              "      <td>0.000000</td>\n",
              "      <td>5.190000</td>\n",
              "      <td>0.000000</td>\n",
              "      <td>0.449000</td>\n",
              "      <td>5.885500</td>\n",
              "      <td>45.025000</td>\n",
              "      <td>2.100175</td>\n",
              "      <td>4.000000</td>\n",
              "      <td>279.000000</td>\n",
              "      <td>17.400000</td>\n",
              "      <td>375.377500</td>\n",
              "      <td>6.950000</td>\n",
              "    </tr>\n",
              "    <tr>\n",
              "      <th>50%</th>\n",
              "      <td>0.256510</td>\n",
              "      <td>0.000000</td>\n",
              "      <td>9.690000</td>\n",
              "      <td>0.000000</td>\n",
              "      <td>0.538000</td>\n",
              "      <td>6.208500</td>\n",
              "      <td>77.500000</td>\n",
              "      <td>3.207450</td>\n",
              "      <td>5.000000</td>\n",
              "      <td>330.000000</td>\n",
              "      <td>19.050000</td>\n",
              "      <td>391.440000</td>\n",
              "      <td>11.360000</td>\n",
              "    </tr>\n",
              "    <tr>\n",
              "      <th>75%</th>\n",
              "      <td>3.677083</td>\n",
              "      <td>12.500000</td>\n",
              "      <td>18.100000</td>\n",
              "      <td>0.000000</td>\n",
              "      <td>0.624000</td>\n",
              "      <td>6.623500</td>\n",
              "      <td>94.075000</td>\n",
              "      <td>5.188425</td>\n",
              "      <td>24.000000</td>\n",
              "      <td>666.000000</td>\n",
              "      <td>20.200000</td>\n",
              "      <td>396.225000</td>\n",
              "      <td>16.955000</td>\n",
              "    </tr>\n",
              "    <tr>\n",
              "      <th>max</th>\n",
              "      <td>88.976200</td>\n",
              "      <td>100.000000</td>\n",
              "      <td>27.740000</td>\n",
              "      <td>1.000000</td>\n",
              "      <td>0.871000</td>\n",
              "      <td>8.780000</td>\n",
              "      <td>100.000000</td>\n",
              "      <td>12.126500</td>\n",
              "      <td>24.000000</td>\n",
              "      <td>711.000000</td>\n",
              "      <td>22.000000</td>\n",
              "      <td>396.900000</td>\n",
              "      <td>37.970000</td>\n",
              "    </tr>\n",
              "  </tbody>\n",
              "</table>\n",
              "</div>"
            ],
            "text/plain": [
              "             CRIM          ZN       INDUS  ...     PTRATIO           B       LSTAT\n",
              "count  506.000000  506.000000  506.000000  ...  506.000000  506.000000  506.000000\n",
              "mean     3.613524   11.363636   11.136779  ...   18.455534  356.674032   12.653063\n",
              "std      8.601545   23.322453    6.860353  ...    2.164946   91.294864    7.141062\n",
              "min      0.006320    0.000000    0.460000  ...   12.600000    0.320000    1.730000\n",
              "25%      0.082045    0.000000    5.190000  ...   17.400000  375.377500    6.950000\n",
              "50%      0.256510    0.000000    9.690000  ...   19.050000  391.440000   11.360000\n",
              "75%      3.677083   12.500000   18.100000  ...   20.200000  396.225000   16.955000\n",
              "max     88.976200  100.000000   27.740000  ...   22.000000  396.900000   37.970000\n",
              "\n",
              "[8 rows x 13 columns]"
            ]
          },
          "metadata": {
            "tags": []
          },
          "execution_count": 1
        }
      ]
    },
    {
      "cell_type": "markdown",
      "metadata": {
        "id": "e8xuSvEO-t9N"
      },
      "source": [
        "### 2. Create a scatterplot showing the relationship between the feature LSTAT and the target value MEDV. Does the relationship appear to be linear? ###"
      ]
    },
    {
      "cell_type": "code",
      "metadata": {
        "id": "unehOOl4Be3C",
        "colab": {
          "base_uri": "https://localhost:8080/",
          "height": 296
        },
        "outputId": "35d27a22-22d2-45f2-ff13-824a89ee8e51"
      },
      "source": [
        "import matplotlib.pyplot as plt\n",
        "\n",
        "targets = dataSet.target #MEDV\n",
        "features = dataSet.data.T\n",
        "\n",
        "LSTATFeature = features[12]\n",
        "\n",
        "plt.scatter(LSTATFeature, targets)\n",
        "plt.xlabel(dataSet.feature_names[12])\n",
        "plt.ylabel(\"MEDV\")"
      ],
      "execution_count": null,
      "outputs": [
        {
          "output_type": "execute_result",
          "data": {
            "text/plain": [
              "Text(0, 0.5, 'MEDV')"
            ]
          },
          "metadata": {
            "tags": []
          },
          "execution_count": 2
        },
        {
          "output_type": "display_data",
          "data": {
            "image/png": "[encoded data removed]",
            "text/plain": [
              "<Figure size 432x288 with 1 Axes>"
            ]
          },
          "metadata": {
            "tags": [],
            "needs_background": "light"
          }
        }
      ]
    },
    {
      "cell_type": "markdown",
      "metadata": {
        "id": "5gUYWuKYBe3H"
      },
      "source": [
        "###The relationship appears to be linear.####"
      ]
    },
    {
      "cell_type": "markdown",
      "metadata": {
        "id": "QDfvJE1g-6f7"
      },
      "source": [
        "### 3. Create and fit() an sklearn.linear_model.LinearRegression model using LSTAT as a predictor of MEDV. Using the coef_ and intercept_ attributes of the model, what is the equation for MEDV as a function of LSTAT? ###"
      ]
    },
    {
      "cell_type": "code",
      "metadata": {
        "id": "TsRr_jV6AKnc",
        "colab": {
          "base_uri": "https://localhost:8080/"
        },
        "outputId": "995ff0fa-9629-4993-bf10-6c91eb285b67"
      },
      "source": [
        "from sklearn.linear_model import LinearRegression\n",
        "\n",
        "reg = LinearRegression()\n",
        "\n",
        "\n",
        "LSTATFeature=LSTATFeature.reshape(-1,1)\n",
        "print (\"THis is targets shape: \")\n",
        "print(targets.shape)\n",
        "\n",
        "reg.fit(LSTATFeature, targets)\n",
        "\n",
        "print('Coeficients: \\n', reg.coef_ )\n",
        "\n",
        "print('Intercept: \\n', reg.intercept_)\n",
        "\n",
        "\n",
        "\n"
      ],
      "execution_count": null,
      "outputs": [
        {
          "output_type": "stream",
          "text": [
            "THis is targets shape: \n",
            "(506,)\n",
            "Coeficients: \n",
            " [-0.95004935]\n",
            "Intercept: \n",
            " 34.5538408793831\n"
          ],
          "name": "stdout"
        }
      ]
    },
    {
      "cell_type": "markdown",
      "metadata": {
        "id": "H8iHihp4AxeQ"
      },
      "source": [
        "###MEDV = 0.11x + 12.627"
      ]
    },
    {
      "cell_type": "markdown",
      "metadata": {
        "id": "glS3gkZUBG7H"
      },
      "source": [
        "### 4. Use the predict() method of the model to find the response for each value of the LSTAT attribute in the dataset. Using sklearn.metrics.mean_squared_error(), find the average loss 𝓛 for the model. ###"
      ]
    },
    {
      "cell_type": "code",
      "metadata": {
        "id": "ZlVJOYt7BSsQ",
        "colab": {
          "base_uri": "https://localhost:8080/"
        },
        "outputId": "26cb8629-66ed-4d24-eaac-4f180eb11f09"
      },
      "source": [
        " from sklearn.metrics import mean_squared_error\n",
        "\n",
        "prediction= reg.predict(LSTATFeature) \n",
        "\n",
        "mean_squared_error(targets, prediction)\n"
      ],
      "execution_count": null,
      "outputs": [
        {
          "output_type": "execute_result",
          "data": {
            "text/plain": [
              "38.48296722989415"
            ]
          },
          "metadata": {
            "tags": []
          },
          "execution_count": 4
        }
      ]
    },
    {
      "cell_type": "markdown",
      "metadata": {
        "id": "lYrKkl0swcfq"
      },
      "source": [
        "###5. Add a line to your scatter plot representing the least sqaures fit data. How well does the model fit the data? ###"
      ]
    },
    {
      "cell_type": "code",
      "metadata": {
        "id": "nx0bsaKRwwaQ",
        "colab": {
          "base_uri": "https://localhost:8080/",
          "height": 282
        },
        "outputId": "3c8e0c7d-4935-45ca-e1be-5ce6a678451a"
      },
      "source": [
        "\n",
        "plt.scatter(prediction, targets)\n",
        "plt.plot(prediction, targets)"
      ],
      "execution_count": null,
      "outputs": [
        {
          "output_type": "execute_result",
          "data": {
            "text/plain": [
              "[<matplotlib.lines.Line2D at 0x7fe166c0cac8>]"
            ]
          },
          "metadata": {
            "tags": []
          },
          "execution_count": 5
        },
        {
          "output_type": "display_data",
          "data": {
            "image/png": "[encoded data removed]",
            "text/plain": [
              "<Figure size 432x288 with 1 Axes>"
            ]
          },
          "metadata": {
            "tags": [],
            "needs_background": "light"
          }
        }
      ]
    },
    {
      "cell_type": "markdown",
      "metadata": {
        "id": "BUkKb_vqzoKW"
      },
      "source": [
        "###The line does not fit the data very well. This is expected since we have a large mean sqaured error. ###"
      ]
    },
    {
      "cell_type": "markdown",
      "metadata": {
        "id": "8mNDYv6bz0YH"
      },
      "source": [
        "###6. Now repeat experiments (3) and (4) using all 13 input features at the same time. How does the average loss change?###"
      ]
    },
    {
      "cell_type": "code",
      "metadata": {
        "id": "fcelcFOizyaH",
        "colab": {
          "base_uri": "https://localhost:8080/"
        },
        "outputId": "8948912a-260c-46ba-a401-478d841a80e4"
      },
      "source": [
        "# from sklearn.model_selection import train_test_split\n",
        "from sklearn import datasets, linear_model\n",
        "\n",
        "X, y = datasets.load_boston(return_X_y=True)\n",
        "Reg = LinearRegression()\n",
        "\n",
        "Reg.fit(X, y)\n",
        "\n",
        "prediction = Reg.predict(X)\n",
        "\n",
        "print('Coeficients: \\n' ,Reg.coef_)\n",
        "print('Intercept: \\n', Reg.intercept_)\n",
        "\n",
        "print(\"Mean Sqaured error\")\n",
        "mean_squared_error(prediction , y)\n",
        "\n",
        "\n",
        "\n",
        "\n",
        "# plt.plot(y, prediction)"
      ],
      "execution_count": null,
      "outputs": [
        {
          "output_type": "stream",
          "text": [
            "Coeficients: \n",
            " [-1.08011358e-01  4.64204584e-02  2.05586264e-02  2.68673382e+00\n",
            " -1.77666112e+01  3.80986521e+00  6.92224640e-04 -1.47556685e+00\n",
            "  3.06049479e-01 -1.23345939e-02 -9.52747232e-01  9.31168327e-03\n",
            " -5.24758378e-01]\n",
            "Intercept: \n",
            " 36.459488385090125\n",
            "Mean Sqaured error\n"
          ],
          "name": "stdout"
        },
        {
          "output_type": "execute_result",
          "data": {
            "text/plain": [
              "21.894831181729202"
            ]
          },
          "metadata": {
            "tags": []
          },
          "execution_count": 6
        }
      ]
    },
    {
      "cell_type": "markdown",
      "metadata": {
        "id": "Jtm6gLtMGiQc"
      },
      "source": [
        "###The average loss decreased significantly###"
      ]
    },
    {
      "cell_type": "markdown",
      "metadata": {
        "id": "zptgeIg52ReR"
      },
      "source": [
        "### 7. Based on the coef_ attributes of the new model, which features are desirable in a home? Which features detract from its value?###\n",
        "\n",
        "### The desired attributes in a home are ZN, INDUS, CHAS, RM, AGE, RAD, and B 1000. ###\n",
        "###The negative attributes are:  CRIM, NOX, DIS, TAX, PTRATIO,LSTAT ###"
      ]
    },
    {
      "cell_type": "markdown",
      "metadata": {
        "id": "PHNSGV4t2Ztj"
      },
      "source": [
        ""
      ]
    },
    {
      "cell_type": "markdown",
      "metadata": {
        "id": "oKqkYA3F2aSh"
      },
      "source": [
        "###8. Given the coef_ attributes, find the following for each feature: how much does a one unit increase in that feature change the median value of the home? Give your answer in dollars.\n"
      ]
    },
    {
      "cell_type": "markdown",
      "metadata": {
        "id": "hZCuTYsx2hNd"
      },
      "source": [
        "###CRIM = -39,  ZN = 434 INDUS = 2, CHAS = 3,043, NOX = -1845, RM = 4,086  AGE = 10, DIS = -1403, RAD = 288, TAX = -10, PTRATIO = -1004, B 1000 = 10, LSTAT = -543###"
      ]
    },
    {
      "cell_type": "markdown",
      "metadata": {
        "id": "odJRAGj92hvZ"
      },
      "source": [
        "###9. Based on the amount of change in the value of the home, which features don’t seem to be important? ###"
      ]
    },
    {
      "cell_type": "markdown",
      "metadata": {
        "id": "xCXCWN892m3_"
      },
      "source": [
        "###The features that are not important are CRIM, ZN, INDUS, AGE, RAD, TAX, B 1000, LSTAT. ###"
      ]
    }
  ]
}