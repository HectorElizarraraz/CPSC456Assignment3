{
  "nbformat": 4,
  "nbformat_minor": 0,
  "metadata": {
    "colab": {
      "name": "Project6.ipynb",
      "provenance": [],
      "collapsed_sections": [],
      "include_colab_link": true
    },
    "kernelspec": {
      "name": "python3",
      "display_name": "Python 3"
    }
  },
  "cells": [
    {
      "cell_type": "markdown",
      "metadata": {
        "id": "view-in-github",
        "colab_type": "text"
      },
      "source": [
        "<a href=\"https://colab.research.google.com/github/HectorElizarraraz/CPSC456Assignment3/blob/main/Project6.ipynb\" target=\"_parent\"><img src=\"https://colab.research.google.com/assets/colab-badge.svg\" alt=\"Open In Colab\"/></a>"
      ]
    },
    {
      "cell_type": "markdown",
      "metadata": {
        "id": "rhLvsyywaIFW"
      },
      "source": [
        "##This project was completed by:\n",
        "##Hector Elizarraraz, CWID: 890228935\n",
        "##Marco Salinas, CWID: 890589393\n",
        "##CPSC 483-02"
      ]
    },
    {
      "cell_type": "markdown",
      "metadata": {
        "id": "NIr4bYE2TCoa"
      },
      "source": [
        "### 1.Dowmload bank-additional.zip and extract its contents. Since the dataset is large and some algorithims we will use can be time consuming, we will train with bank-additional.csv, which is a subset of the original dataset.\n",
        "###Once our models are trained, we will test against the full dataset, which is in bank-additional-full.csv. ###\n",
        "\n",
        "###The archive also contains a text file, bank-additional-names.txt, which describes the dataset and what each column represents.###\n"
      ]
    },
    {
      "cell_type": "code",
      "metadata": {
        "id": "xic5X8NeSziC"
      },
      "source": [
        ""
      ],
      "execution_count": null,
      "outputs": []
    },
    {
      "cell_type": "markdown",
      "metadata": {
        "id": "-6wF90uNUurq"
      },
      "source": [
        "###2. Use read_csv() to load and examine the training and test sets. Unlike most CSV files, the separator is actually ';' rather than ','. ###"
      ]
    },
    {
      "cell_type": "code",
      "metadata": {
        "id": "brbL3w6HWiBU",
        "colab": {
          "base_uri": "https://localhost:8080/",
          "height": 436
        },
        "outputId": "af1e69ef-ab75-4d16-d5ba-711bc29faa95"
      },
      "source": [
        "import pandas as pd\n",
        "import numpy as np\n",
        "from google.colab import files\n",
        "\n",
        "cols = ['age', 'job', 'marital', 'education', 'default', 'housing', 'loan', 'contact', 'month',\n",
        "        'day_of_week', 'duration', 'campaign', 'pdays', 'previous', 'poutcome', 'emp.var.rate', 'cons.price.idx',\n",
        "       'cons.conf.idx', 'eurinor3m', 'nr.employed', 'y']\n",
        "print('Training set:')\n",
        "train = pd.read_csv(\"/content/bank-additional.csv\", header=None, names=cols, sep=';')\n",
        "train\n",
        "\n",
        "\n"
      ],
      "execution_count": null,
      "outputs": [
        {
          "output_type": "stream",
          "text": [
            "Training set:\n"
          ],
          "name": "stdout"
        },
        {
          "output_type": "execute_result",
          "data": {
            "text/html": [
              "<div>\n",
              "<style scoped>\n",
              "    .dataframe tbody tr th:only-of-type {\n",
              "        vertical-align: middle;\n",
              "    }\n",
              "\n",
              "    .dataframe tbody tr th {\n",
              "        vertical-align: top;\n",
              "    }\n",
              "\n",
              "    .dataframe thead th {\n",
              "        text-align: right;\n",
              "    }\n",
              "</style>\n",
              "<table border=\"1\" class=\"dataframe\">\n",
              "  <thead>\n",
              "    <tr style=\"text-align: right;\">\n",
              "      <th></th>\n",
              "      <th>age</th>\n",
              "      <th>job</th>\n",
              "      <th>marital</th>\n",
              "      <th>education</th>\n",
              "      <th>default</th>\n",
              "      <th>housing</th>\n",
              "      <th>loan</th>\n",
              "      <th>contact</th>\n",
              "      <th>month</th>\n",
              "      <th>day_of_week</th>\n",
              "      <th>duration</th>\n",
              "      <th>campaign</th>\n",
              "      <th>pdays</th>\n",
              "      <th>previous</th>\n",
              "      <th>poutcome</th>\n",
              "      <th>emp.var.rate</th>\n",
              "      <th>cons.price.idx</th>\n",
              "      <th>cons.conf.idx</th>\n",
              "      <th>eurinor3m</th>\n",
              "      <th>nr.employed</th>\n",
              "      <th>y</th>\n",
              "    </tr>\n",
              "  </thead>\n",
              "  <tbody>\n",
              "    <tr>\n",
              "      <th>0</th>\n",
              "      <td>age</td>\n",
              "      <td>job</td>\n",
              "      <td>marital</td>\n",
              "      <td>education</td>\n",
              "      <td>default</td>\n",
              "      <td>housing</td>\n",
              "      <td>loan</td>\n",
              "      <td>contact</td>\n",
              "      <td>month</td>\n",
              "      <td>day_of_week</td>\n",
              "      <td>duration</td>\n",
              "      <td>campaign</td>\n",
              "      <td>pdays</td>\n",
              "      <td>previous</td>\n",
              "      <td>poutcome</td>\n",
              "      <td>emp.var.rate</td>\n",
              "      <td>cons.price.idx</td>\n",
              "      <td>cons.conf.idx</td>\n",
              "      <td>euribor3m</td>\n",
              "      <td>nr.employed</td>\n",
              "      <td>y</td>\n",
              "    </tr>\n",
              "    <tr>\n",
              "      <th>1</th>\n",
              "      <td>30</td>\n",
              "      <td>blue-collar</td>\n",
              "      <td>married</td>\n",
              "      <td>basic.9y</td>\n",
              "      <td>no</td>\n",
              "      <td>yes</td>\n",
              "      <td>no</td>\n",
              "      <td>cellular</td>\n",
              "      <td>may</td>\n",
              "      <td>fri</td>\n",
              "      <td>487</td>\n",
              "      <td>2</td>\n",
              "      <td>999</td>\n",
              "      <td>0</td>\n",
              "      <td>nonexistent</td>\n",
              "      <td>-1.8</td>\n",
              "      <td>92.893</td>\n",
              "      <td>-46.2</td>\n",
              "      <td>1.313</td>\n",
              "      <td>5099.1</td>\n",
              "      <td>no</td>\n",
              "    </tr>\n",
              "    <tr>\n",
              "      <th>2</th>\n",
              "      <td>39</td>\n",
              "      <td>services</td>\n",
              "      <td>single</td>\n",
              "      <td>high.school</td>\n",
              "      <td>no</td>\n",
              "      <td>no</td>\n",
              "      <td>no</td>\n",
              "      <td>telephone</td>\n",
              "      <td>may</td>\n",
              "      <td>fri</td>\n",
              "      <td>346</td>\n",
              "      <td>4</td>\n",
              "      <td>999</td>\n",
              "      <td>0</td>\n",
              "      <td>nonexistent</td>\n",
              "      <td>1.1</td>\n",
              "      <td>93.994</td>\n",
              "      <td>-36.4</td>\n",
              "      <td>4.855</td>\n",
              "      <td>5191</td>\n",
              "      <td>no</td>\n",
              "    </tr>\n",
              "    <tr>\n",
              "      <th>3</th>\n",
              "      <td>25</td>\n",
              "      <td>services</td>\n",
              "      <td>married</td>\n",
              "      <td>high.school</td>\n",
              "      <td>no</td>\n",
              "      <td>yes</td>\n",
              "      <td>no</td>\n",
              "      <td>telephone</td>\n",
              "      <td>jun</td>\n",
              "      <td>wed</td>\n",
              "      <td>227</td>\n",
              "      <td>1</td>\n",
              "      <td>999</td>\n",
              "      <td>0</td>\n",
              "      <td>nonexistent</td>\n",
              "      <td>1.4</td>\n",
              "      <td>94.465</td>\n",
              "      <td>-41.8</td>\n",
              "      <td>4.962</td>\n",
              "      <td>5228.1</td>\n",
              "      <td>no</td>\n",
              "    </tr>\n",
              "    <tr>\n",
              "      <th>4</th>\n",
              "      <td>38</td>\n",
              "      <td>services</td>\n",
              "      <td>married</td>\n",
              "      <td>basic.9y</td>\n",
              "      <td>no</td>\n",
              "      <td>unknown</td>\n",
              "      <td>unknown</td>\n",
              "      <td>telephone</td>\n",
              "      <td>jun</td>\n",
              "      <td>fri</td>\n",
              "      <td>17</td>\n",
              "      <td>3</td>\n",
              "      <td>999</td>\n",
              "      <td>0</td>\n",
              "      <td>nonexistent</td>\n",
              "      <td>1.4</td>\n",
              "      <td>94.465</td>\n",
              "      <td>-41.8</td>\n",
              "      <td>4.959</td>\n",
              "      <td>5228.1</td>\n",
              "      <td>no</td>\n",
              "    </tr>\n",
              "    <tr>\n",
              "      <th>...</th>\n",
              "      <td>...</td>\n",
              "      <td>...</td>\n",
              "      <td>...</td>\n",
              "      <td>...</td>\n",
              "      <td>...</td>\n",
              "      <td>...</td>\n",
              "      <td>...</td>\n",
              "      <td>...</td>\n",
              "      <td>...</td>\n",
              "      <td>...</td>\n",
              "      <td>...</td>\n",
              "      <td>...</td>\n",
              "      <td>...</td>\n",
              "      <td>...</td>\n",
              "      <td>...</td>\n",
              "      <td>...</td>\n",
              "      <td>...</td>\n",
              "      <td>...</td>\n",
              "      <td>...</td>\n",
              "      <td>...</td>\n",
              "      <td>...</td>\n",
              "    </tr>\n",
              "    <tr>\n",
              "      <th>4115</th>\n",
              "      <td>30</td>\n",
              "      <td>admin.</td>\n",
              "      <td>married</td>\n",
              "      <td>basic.6y</td>\n",
              "      <td>no</td>\n",
              "      <td>yes</td>\n",
              "      <td>yes</td>\n",
              "      <td>cellular</td>\n",
              "      <td>jul</td>\n",
              "      <td>thu</td>\n",
              "      <td>53</td>\n",
              "      <td>1</td>\n",
              "      <td>999</td>\n",
              "      <td>0</td>\n",
              "      <td>nonexistent</td>\n",
              "      <td>1.4</td>\n",
              "      <td>93.918</td>\n",
              "      <td>-42.7</td>\n",
              "      <td>4.958</td>\n",
              "      <td>5228.1</td>\n",
              "      <td>no</td>\n",
              "    </tr>\n",
              "    <tr>\n",
              "      <th>4116</th>\n",
              "      <td>39</td>\n",
              "      <td>admin.</td>\n",
              "      <td>married</td>\n",
              "      <td>high.school</td>\n",
              "      <td>no</td>\n",
              "      <td>yes</td>\n",
              "      <td>no</td>\n",
              "      <td>telephone</td>\n",
              "      <td>jul</td>\n",
              "      <td>fri</td>\n",
              "      <td>219</td>\n",
              "      <td>1</td>\n",
              "      <td>999</td>\n",
              "      <td>0</td>\n",
              "      <td>nonexistent</td>\n",
              "      <td>1.4</td>\n",
              "      <td>93.918</td>\n",
              "      <td>-42.7</td>\n",
              "      <td>4.959</td>\n",
              "      <td>5228.1</td>\n",
              "      <td>no</td>\n",
              "    </tr>\n",
              "    <tr>\n",
              "      <th>4117</th>\n",
              "      <td>27</td>\n",
              "      <td>student</td>\n",
              "      <td>single</td>\n",
              "      <td>high.school</td>\n",
              "      <td>no</td>\n",
              "      <td>no</td>\n",
              "      <td>no</td>\n",
              "      <td>cellular</td>\n",
              "      <td>may</td>\n",
              "      <td>mon</td>\n",
              "      <td>64</td>\n",
              "      <td>2</td>\n",
              "      <td>999</td>\n",
              "      <td>1</td>\n",
              "      <td>failure</td>\n",
              "      <td>-1.8</td>\n",
              "      <td>92.893</td>\n",
              "      <td>-46.2</td>\n",
              "      <td>1.354</td>\n",
              "      <td>5099.1</td>\n",
              "      <td>no</td>\n",
              "    </tr>\n",
              "    <tr>\n",
              "      <th>4118</th>\n",
              "      <td>58</td>\n",
              "      <td>admin.</td>\n",
              "      <td>married</td>\n",
              "      <td>high.school</td>\n",
              "      <td>no</td>\n",
              "      <td>no</td>\n",
              "      <td>no</td>\n",
              "      <td>cellular</td>\n",
              "      <td>aug</td>\n",
              "      <td>fri</td>\n",
              "      <td>528</td>\n",
              "      <td>1</td>\n",
              "      <td>999</td>\n",
              "      <td>0</td>\n",
              "      <td>nonexistent</td>\n",
              "      <td>1.4</td>\n",
              "      <td>93.444</td>\n",
              "      <td>-36.1</td>\n",
              "      <td>4.966</td>\n",
              "      <td>5228.1</td>\n",
              "      <td>no</td>\n",
              "    </tr>\n",
              "    <tr>\n",
              "      <th>4119</th>\n",
              "      <td>34</td>\n",
              "      <td>management</td>\n",
              "      <td>single</td>\n",
              "      <td>high.school</td>\n",
              "      <td>no</td>\n",
              "      <td>yes</td>\n",
              "      <td>no</td>\n",
              "      <td>cellular</td>\n",
              "      <td>nov</td>\n",
              "      <td>wed</td>\n",
              "      <td>175</td>\n",
              "      <td>1</td>\n",
              "      <td>999</td>\n",
              "      <td>0</td>\n",
              "      <td>nonexistent</td>\n",
              "      <td>-0.1</td>\n",
              "      <td>93.2</td>\n",
              "      <td>-42</td>\n",
              "      <td>4.12</td>\n",
              "      <td>5195.8</td>\n",
              "      <td>no</td>\n",
              "    </tr>\n",
              "  </tbody>\n",
              "</table>\n",
              "<p>4120 rows × 21 columns</p>\n",
              "</div>"
            ],
            "text/plain": [
              "      age          job  marital  ...  eurinor3m  nr.employed   y\n",
              "0     age          job  marital  ...  euribor3m  nr.employed   y\n",
              "1      30  blue-collar  married  ...      1.313       5099.1  no\n",
              "2      39     services   single  ...      4.855         5191  no\n",
              "3      25     services  married  ...      4.962       5228.1  no\n",
              "4      38     services  married  ...      4.959       5228.1  no\n",
              "...   ...          ...      ...  ...        ...          ...  ..\n",
              "4115   30       admin.  married  ...      4.958       5228.1  no\n",
              "4116   39       admin.  married  ...      4.959       5228.1  no\n",
              "4117   27      student   single  ...      1.354       5099.1  no\n",
              "4118   58       admin.  married  ...      4.966       5228.1  no\n",
              "4119   34   management   single  ...       4.12       5195.8  no\n",
              "\n",
              "[4120 rows x 21 columns]"
            ]
          },
          "metadata": {
            "tags": []
          },
          "execution_count": 1
        }
      ]
    },
    {
      "cell_type": "code",
      "metadata": {
        "id": "ys9mfHRBdzAD",
        "colab": {
          "base_uri": "https://localhost:8080/",
          "height": 470
        },
        "outputId": "82a4e720-f7ae-4b44-c560-7cd7a2066622"
      },
      "source": [
        "print('Test Set:')\n",
        "test = pd.read_csv(\"/content/bank-additional-full.csv\", header=None, names=cols, sep=';')\n",
        "test"
      ],
      "execution_count": null,
      "outputs": [
        {
          "output_type": "stream",
          "text": [
            "Test Set:\n"
          ],
          "name": "stdout"
        },
        {
          "output_type": "stream",
          "text": [
            "/usr/local/lib/python3.6/dist-packages/IPython/core/interactiveshell.py:2718: DtypeWarning: Columns (0,10,11,12,13,15,16,17,18,19) have mixed types.Specify dtype option on import or set low_memory=False.\n",
            "  interactivity=interactivity, compiler=compiler, result=result)\n"
          ],
          "name": "stderr"
        },
        {
          "output_type": "execute_result",
          "data": {
            "text/html": [
              "<div>\n",
              "<style scoped>\n",
              "    .dataframe tbody tr th:only-of-type {\n",
              "        vertical-align: middle;\n",
              "    }\n",
              "\n",
              "    .dataframe tbody tr th {\n",
              "        vertical-align: top;\n",
              "    }\n",
              "\n",
              "    .dataframe thead th {\n",
              "        text-align: right;\n",
              "    }\n",
              "</style>\n",
              "<table border=\"1\" class=\"dataframe\">\n",
              "  <thead>\n",
              "    <tr style=\"text-align: right;\">\n",
              "      <th></th>\n",
              "      <th>age</th>\n",
              "      <th>job</th>\n",
              "      <th>marital</th>\n",
              "      <th>education</th>\n",
              "      <th>default</th>\n",
              "      <th>housing</th>\n",
              "      <th>loan</th>\n",
              "      <th>contact</th>\n",
              "      <th>month</th>\n",
              "      <th>day_of_week</th>\n",
              "      <th>duration</th>\n",
              "      <th>campaign</th>\n",
              "      <th>pdays</th>\n",
              "      <th>previous</th>\n",
              "      <th>poutcome</th>\n",
              "      <th>emp.var.rate</th>\n",
              "      <th>cons.price.idx</th>\n",
              "      <th>cons.conf.idx</th>\n",
              "      <th>eurinor3m</th>\n",
              "      <th>nr.employed</th>\n",
              "      <th>y</th>\n",
              "    </tr>\n",
              "  </thead>\n",
              "  <tbody>\n",
              "    <tr>\n",
              "      <th>0</th>\n",
              "      <td>age</td>\n",
              "      <td>job</td>\n",
              "      <td>marital</td>\n",
              "      <td>education</td>\n",
              "      <td>default</td>\n",
              "      <td>housing</td>\n",
              "      <td>loan</td>\n",
              "      <td>contact</td>\n",
              "      <td>month</td>\n",
              "      <td>day_of_week</td>\n",
              "      <td>duration</td>\n",
              "      <td>campaign</td>\n",
              "      <td>pdays</td>\n",
              "      <td>previous</td>\n",
              "      <td>poutcome</td>\n",
              "      <td>emp.var.rate</td>\n",
              "      <td>cons.price.idx</td>\n",
              "      <td>cons.conf.idx</td>\n",
              "      <td>euribor3m</td>\n",
              "      <td>nr.employed</td>\n",
              "      <td>y</td>\n",
              "    </tr>\n",
              "    <tr>\n",
              "      <th>1</th>\n",
              "      <td>56</td>\n",
              "      <td>housemaid</td>\n",
              "      <td>married</td>\n",
              "      <td>basic.4y</td>\n",
              "      <td>no</td>\n",
              "      <td>no</td>\n",
              "      <td>no</td>\n",
              "      <td>telephone</td>\n",
              "      <td>may</td>\n",
              "      <td>mon</td>\n",
              "      <td>261</td>\n",
              "      <td>1</td>\n",
              "      <td>999</td>\n",
              "      <td>0</td>\n",
              "      <td>nonexistent</td>\n",
              "      <td>1.1</td>\n",
              "      <td>93.994</td>\n",
              "      <td>-36.4</td>\n",
              "      <td>4.857</td>\n",
              "      <td>5191</td>\n",
              "      <td>no</td>\n",
              "    </tr>\n",
              "    <tr>\n",
              "      <th>2</th>\n",
              "      <td>57</td>\n",
              "      <td>services</td>\n",
              "      <td>married</td>\n",
              "      <td>high.school</td>\n",
              "      <td>unknown</td>\n",
              "      <td>no</td>\n",
              "      <td>no</td>\n",
              "      <td>telephone</td>\n",
              "      <td>may</td>\n",
              "      <td>mon</td>\n",
              "      <td>149</td>\n",
              "      <td>1</td>\n",
              "      <td>999</td>\n",
              "      <td>0</td>\n",
              "      <td>nonexistent</td>\n",
              "      <td>1.1</td>\n",
              "      <td>93.994</td>\n",
              "      <td>-36.4</td>\n",
              "      <td>4.857</td>\n",
              "      <td>5191</td>\n",
              "      <td>no</td>\n",
              "    </tr>\n",
              "    <tr>\n",
              "      <th>3</th>\n",
              "      <td>37</td>\n",
              "      <td>services</td>\n",
              "      <td>married</td>\n",
              "      <td>high.school</td>\n",
              "      <td>no</td>\n",
              "      <td>yes</td>\n",
              "      <td>no</td>\n",
              "      <td>telephone</td>\n",
              "      <td>may</td>\n",
              "      <td>mon</td>\n",
              "      <td>226</td>\n",
              "      <td>1</td>\n",
              "      <td>999</td>\n",
              "      <td>0</td>\n",
              "      <td>nonexistent</td>\n",
              "      <td>1.1</td>\n",
              "      <td>93.994</td>\n",
              "      <td>-36.4</td>\n",
              "      <td>4.857</td>\n",
              "      <td>5191</td>\n",
              "      <td>no</td>\n",
              "    </tr>\n",
              "    <tr>\n",
              "      <th>4</th>\n",
              "      <td>40</td>\n",
              "      <td>admin.</td>\n",
              "      <td>married</td>\n",
              "      <td>basic.6y</td>\n",
              "      <td>no</td>\n",
              "      <td>no</td>\n",
              "      <td>no</td>\n",
              "      <td>telephone</td>\n",
              "      <td>may</td>\n",
              "      <td>mon</td>\n",
              "      <td>151</td>\n",
              "      <td>1</td>\n",
              "      <td>999</td>\n",
              "      <td>0</td>\n",
              "      <td>nonexistent</td>\n",
              "      <td>1.1</td>\n",
              "      <td>93.994</td>\n",
              "      <td>-36.4</td>\n",
              "      <td>4.857</td>\n",
              "      <td>5191</td>\n",
              "      <td>no</td>\n",
              "    </tr>\n",
              "    <tr>\n",
              "      <th>...</th>\n",
              "      <td>...</td>\n",
              "      <td>...</td>\n",
              "      <td>...</td>\n",
              "      <td>...</td>\n",
              "      <td>...</td>\n",
              "      <td>...</td>\n",
              "      <td>...</td>\n",
              "      <td>...</td>\n",
              "      <td>...</td>\n",
              "      <td>...</td>\n",
              "      <td>...</td>\n",
              "      <td>...</td>\n",
              "      <td>...</td>\n",
              "      <td>...</td>\n",
              "      <td>...</td>\n",
              "      <td>...</td>\n",
              "      <td>...</td>\n",
              "      <td>...</td>\n",
              "      <td>...</td>\n",
              "      <td>...</td>\n",
              "      <td>...</td>\n",
              "    </tr>\n",
              "    <tr>\n",
              "      <th>41184</th>\n",
              "      <td>73</td>\n",
              "      <td>retired</td>\n",
              "      <td>married</td>\n",
              "      <td>professional.course</td>\n",
              "      <td>no</td>\n",
              "      <td>yes</td>\n",
              "      <td>no</td>\n",
              "      <td>cellular</td>\n",
              "      <td>nov</td>\n",
              "      <td>fri</td>\n",
              "      <td>334</td>\n",
              "      <td>1</td>\n",
              "      <td>999</td>\n",
              "      <td>0</td>\n",
              "      <td>nonexistent</td>\n",
              "      <td>-1.1</td>\n",
              "      <td>94.767</td>\n",
              "      <td>-50.8</td>\n",
              "      <td>1.028</td>\n",
              "      <td>4963.6</td>\n",
              "      <td>yes</td>\n",
              "    </tr>\n",
              "    <tr>\n",
              "      <th>41185</th>\n",
              "      <td>46</td>\n",
              "      <td>blue-collar</td>\n",
              "      <td>married</td>\n",
              "      <td>professional.course</td>\n",
              "      <td>no</td>\n",
              "      <td>no</td>\n",
              "      <td>no</td>\n",
              "      <td>cellular</td>\n",
              "      <td>nov</td>\n",
              "      <td>fri</td>\n",
              "      <td>383</td>\n",
              "      <td>1</td>\n",
              "      <td>999</td>\n",
              "      <td>0</td>\n",
              "      <td>nonexistent</td>\n",
              "      <td>-1.1</td>\n",
              "      <td>94.767</td>\n",
              "      <td>-50.8</td>\n",
              "      <td>1.028</td>\n",
              "      <td>4963.6</td>\n",
              "      <td>no</td>\n",
              "    </tr>\n",
              "    <tr>\n",
              "      <th>41186</th>\n",
              "      <td>56</td>\n",
              "      <td>retired</td>\n",
              "      <td>married</td>\n",
              "      <td>university.degree</td>\n",
              "      <td>no</td>\n",
              "      <td>yes</td>\n",
              "      <td>no</td>\n",
              "      <td>cellular</td>\n",
              "      <td>nov</td>\n",
              "      <td>fri</td>\n",
              "      <td>189</td>\n",
              "      <td>2</td>\n",
              "      <td>999</td>\n",
              "      <td>0</td>\n",
              "      <td>nonexistent</td>\n",
              "      <td>-1.1</td>\n",
              "      <td>94.767</td>\n",
              "      <td>-50.8</td>\n",
              "      <td>1.028</td>\n",
              "      <td>4963.6</td>\n",
              "      <td>no</td>\n",
              "    </tr>\n",
              "    <tr>\n",
              "      <th>41187</th>\n",
              "      <td>44</td>\n",
              "      <td>technician</td>\n",
              "      <td>married</td>\n",
              "      <td>professional.course</td>\n",
              "      <td>no</td>\n",
              "      <td>no</td>\n",
              "      <td>no</td>\n",
              "      <td>cellular</td>\n",
              "      <td>nov</td>\n",
              "      <td>fri</td>\n",
              "      <td>442</td>\n",
              "      <td>1</td>\n",
              "      <td>999</td>\n",
              "      <td>0</td>\n",
              "      <td>nonexistent</td>\n",
              "      <td>-1.1</td>\n",
              "      <td>94.767</td>\n",
              "      <td>-50.8</td>\n",
              "      <td>1.028</td>\n",
              "      <td>4963.6</td>\n",
              "      <td>yes</td>\n",
              "    </tr>\n",
              "    <tr>\n",
              "      <th>41188</th>\n",
              "      <td>74</td>\n",
              "      <td>retired</td>\n",
              "      <td>married</td>\n",
              "      <td>professional.course</td>\n",
              "      <td>no</td>\n",
              "      <td>yes</td>\n",
              "      <td>no</td>\n",
              "      <td>cellular</td>\n",
              "      <td>nov</td>\n",
              "      <td>fri</td>\n",
              "      <td>239</td>\n",
              "      <td>3</td>\n",
              "      <td>999</td>\n",
              "      <td>1</td>\n",
              "      <td>failure</td>\n",
              "      <td>-1.1</td>\n",
              "      <td>94.767</td>\n",
              "      <td>-50.8</td>\n",
              "      <td>1.028</td>\n",
              "      <td>4963.6</td>\n",
              "      <td>no</td>\n",
              "    </tr>\n",
              "  </tbody>\n",
              "</table>\n",
              "<p>41189 rows × 21 columns</p>\n",
              "</div>"
            ],
            "text/plain": [
              "       age          job  marital  ...  eurinor3m  nr.employed    y\n",
              "0      age          job  marital  ...  euribor3m  nr.employed    y\n",
              "1       56    housemaid  married  ...      4.857         5191   no\n",
              "2       57     services  married  ...      4.857         5191   no\n",
              "3       37     services  married  ...      4.857         5191   no\n",
              "4       40       admin.  married  ...      4.857         5191   no\n",
              "...    ...          ...      ...  ...        ...          ...  ...\n",
              "41184   73      retired  married  ...      1.028       4963.6  yes\n",
              "41185   46  blue-collar  married  ...      1.028       4963.6   no\n",
              "41186   56      retired  married  ...      1.028       4963.6   no\n",
              "41187   44   technician  married  ...      1.028       4963.6  yes\n",
              "41188   74      retired  married  ...      1.028       4963.6   no\n",
              "\n",
              "[41189 rows x 21 columns]"
            ]
          },
          "metadata": {
            "tags": []
          },
          "execution_count": 2
        }
      ]
    },
    {
      "cell_type": "markdown",
      "metadata": {
        "id": "rZduwSLnWieA"
      },
      "source": [
        "###3. The training and test DataFrames will need some significant preprocessing before they can be used:###\n",
        "\n",
        "### Several of the features are categorical variables and will need to be turned into numbers before they can be used by ML algorithms. The simplest way to accomplish this is to use dummy coding using get_dummies().###\n",
        "\n",
        "###Some algorithms (e.g. logistic regression) have problems with collinear features. If you use one-hot encoding, one dummy variable will be a linear combination of the other dummy variables, so be sure to pass drop_first=True.####\n",
        "\n",
        "  \n"
      ]
    },
    {
      "cell_type": "code",
      "metadata": {
        "id": "Vy8ApbAtY4kB",
        "colab": {
          "base_uri": "https://localhost:8080/"
        },
        "outputId": "eac14004-4d96-4336-c89c-b6cd13a45eb7"
      },
      "source": [
        "# data preprocessing\n",
        "# non-numerical features: job, marital, education, default, loan, contact, month, day_of_week, poutcome\n",
        "# use get_dummies to give numerical values to categorical features\n",
        "trainFormatted = pd.get_dummies(train, columns=['job', 'marital', 'education', 'default', 'housing', 'loan', 'contact', 'month', 'day_of_week', 'poutcome'], drop_first=True)\n",
        "# remove target variable and duration feature\n",
        "trainTarget = trainFormatted['y']\n",
        "trainFormatted = trainFormatted.drop(['duration', 'y'], axis=1)\n",
        "\n",
        "# Need to standardize numerical values for KNN and SVM\n",
        "\n",
        "from sklearn.preprocessing import StandardScaler\n",
        "scaler = StandardScaler()\n",
        "\n",
        "trainFormatted  = trainFormatted.drop(trainFormatted.index[0])\n",
        "trainTarget  = trainTarget.drop(trainTarget.index[0])\n",
        "\n",
        "trainFormatted = scaler.fit_transform(trainFormatted)\n",
        "trainFormatted\n",
        "\n"
      ],
      "execution_count": null,
      "outputs": [
        {
          "output_type": "execute_result",
          "data": {
            "text/plain": [
              "array([[-0.98075178, -0.20922829,  0.20103134, ...,  0.41130767,\n",
              "         0.        , -0.18895848],\n",
              "       [-0.10799146,  0.56963417,  0.20103134, ...,  0.41130767,\n",
              "         0.        , -0.18895848],\n",
              "       [-1.46561862, -0.59865952,  0.20103134, ...,  0.41130767,\n",
              "         0.        , -0.18895848],\n",
              "       ...,\n",
              "       [-1.27167189, -0.20922829,  0.20103134, ..., -2.43127   ,\n",
              "         0.        , -0.18895848],\n",
              "       [ 1.73450254, -0.59865952,  0.20103134, ...,  0.41130767,\n",
              "         0.        , -0.18895848],\n",
              "       [-0.59285831, -0.59865952,  0.20103134, ...,  0.41130767,\n",
              "         0.        , -0.18895848]])"
            ]
          },
          "metadata": {
            "tags": []
          },
          "execution_count": 3
        }
      ]
    },
    {
      "cell_type": "code",
      "metadata": {
        "id": "2-PBZTtFtflV",
        "colab": {
          "base_uri": "https://localhost:8080/"
        },
        "outputId": "693163bc-a8e4-4f2f-d02c-c83d9aa985f2"
      },
      "source": [
        "testFormatted = pd.get_dummies(test, columns=['job', 'marital', 'education', 'default', 'housing', 'loan', 'contact', 'month', 'day_of_week', 'poutcome'], drop_first=True)\n",
        "# remove target variable and duration feature\n",
        "testTarget= testFormatted['y']\n",
        "testFormatted = testFormatted.drop(['duration', 'y'], axis=1)\n",
        "\n",
        "# Need to standardize numerical values for KNN and SVM\n",
        "\n",
        "from sklearn.preprocessing import StandardScaler\n",
        "scaler = StandardScaler()\n",
        "\n",
        "testFormatted = testFormatted.drop(testFormatted.index[0])\n",
        "testTarget = testTarget.drop(testTarget.index[0])\n",
        "\n",
        "testFormatted = scaler.fit_transform(testFormatted)\n",
        "testFormatted"
      ],
      "execution_count": null,
      "outputs": [
        {
          "output_type": "execute_result",
          "data": {
            "text/plain": [
              "array([[ 1.53303429, -0.56592197,  0.1954139 , ...,  0.39770593,\n",
              "         0.        , -0.1857    ],\n",
              "       [ 1.62899323, -0.56592197,  0.1954139 , ...,  0.39770593,\n",
              "         0.        , -0.1857    ],\n",
              "       [-0.29018564, -0.56592197,  0.1954139 , ...,  0.39770593,\n",
              "         0.        , -0.1857    ],\n",
              "       ...,\n",
              "       [ 1.53303429, -0.20490853,  0.1954139 , ...,  0.39770593,\n",
              "         0.        , -0.1857    ],\n",
              "       [ 0.38152696, -0.56592197,  0.1954139 , ...,  0.39770593,\n",
              "         0.        , -0.1857    ],\n",
              "       [ 3.26029527,  0.15610492,  0.1954139 , ..., -2.51442063,\n",
              "         0.        , -0.1857    ]])"
            ]
          },
          "metadata": {
            "tags": []
          },
          "execution_count": 4
        }
      ]
    },
    {
      "cell_type": "markdown",
      "metadata": {
        "id": "FEnuekfFY5Fu"
      },
      "source": [
        "###Per bank-additional-names.txt, the feature duration “should be discarded if the intention is to have a realistic predictive model,” so removed. ###\n"
      ]
    },
    {
      "cell_type": "markdown",
      "metadata": {
        "id": "JsOVlj0PY-SB"
      },
      "source": [
        "###The feature y (or y_yes after dummy coding) is the target, so should be removed.###"
      ]
    },
    {
      "cell_type": "markdown",
      "metadata": {
        "id": "VapUmHCnZEEx"
      },
      "source": [
        "###Some algorithms (e.g. KNN and SVM) require non-categorical features to be standardized. ###"
      ]
    },
    {
      "cell_type": "markdown",
      "metadata": {
        "id": "cRQILj4pZIm_"
      },
      "source": [
        "###4. Fit Naive Bayes, KNN, and SVM classifiers to the training set, then score each classifier on the test set. Which classifier has the highest accuracy? ###"
      ]
    },
    {
      "cell_type": "code",
      "metadata": {
        "id": "Bi6CMGrKZMhB",
        "colab": {
          "base_uri": "https://localhost:8080/"
        },
        "outputId": "a7409805-b218-4e16-ecea-6b2b4d8921d6"
      },
      "source": [
        "# Naive Bayes\n",
        "from sklearn.naive_bayes import GaussianNB\n",
        "X = trainFormatted\n",
        "y = trainTarget\n",
        "gnb = GaussianNB()\n",
        "\n",
        "gnb.fit(X, y)\n",
        "print(\"Naive Bayes Score:\")\n",
        "print(gnb.score(testFormatted, testTarget))\n",
        "\n",
        "# KNN \n",
        "from sklearn.neighbors import KNeighborsClassifier\n",
        "kneighs = KNeighborsClassifier(n_neighbors = 64)\n",
        "\n",
        "kneighs.fit(X,y)\n",
        "print(\"KNN Score: \")\n",
        "print(kneighs.score(testFormatted, testTarget))\n",
        "\n",
        "# SVM \n",
        "from sklearn.svm import SVC\n",
        "svc = SVC()\n",
        "\n",
        "svc.fit(X,y)\n",
        "\n",
        "print(\"SVM Score: \" )\n",
        "print(svc.score(testFormatted, testTarget))\n"
      ],
      "execution_count": null,
      "outputs": [
        {
          "output_type": "stream",
          "text": [
            "Naive Bayes Score:\n",
            "0.8873458288821987\n",
            "KNN Score: \n",
            "0.8980771098378169\n",
            "SVM Score: \n",
            "0.898222783334952\n"
          ],
          "name": "stdout"
        }
      ]
    },
    {
      "cell_type": "markdown",
      "metadata": {
        "id": "o0mjWtr4KXmH"
      },
      "source": [
        "The SVM classifier has the highest accuracy."
      ]
    },
    {
      "cell_type": "markdown",
      "metadata": {
        "id": "rbbxXe-TZM_b"
      },
      "source": [
        "###5. These numbers look pretty good, but let’s take another look at the data. How many values in the training set have y_yes = 0, and how many have y_yes = 1? What would be the accuracy if we simply assumed that no customer ever subscribed to the product? ###"
      ]
    },
    {
      "cell_type": "code",
      "metadata": {
        "id": "jp5u7slNZS7q",
        "colab": {
          "base_uri": "https://localhost:8080/"
        },
        "outputId": "e65515b0-8d5b-4512-8870-9eaac4c85f62"
      },
      "source": [
        "noCount = 0\n",
        "yesCount = 0\n",
        "for x in trainTarget:\n",
        "  if x == 'no':\n",
        "    noCount +=1\n",
        "  else:\n",
        "    yesCount += 1\n",
        "\n",
        "print(\"NOs\")\n",
        "print(noCount)\n",
        "\n",
        "print(\"Yes\")\n",
        "print(yesCount)"
      ],
      "execution_count": null,
      "outputs": [
        {
          "output_type": "stream",
          "text": [
            "NOs\n",
            "3668\n",
            "Yes\n",
            "451\n"
          ],
          "name": "stdout"
        }
      ]
    },
    {
      "cell_type": "markdown",
      "metadata": {
        "id": "aqU5BXQDZTXj"
      },
      "source": [
        "###6. Use np.zeros_like() to create a target vector representing the output of the “dumb” classifier of experiment (5), then create a confusion matrix and find its AUC. ###"
      ]
    },
    {
      "cell_type": "code",
      "metadata": {
        "id": "PnELwAdc00GR",
        "colab": {
          "base_uri": "https://localhost:8080/"
        },
        "outputId": "fd571cd5-519d-456e-c6b4-c8a0f260576e"
      },
      "source": [
        "# create a target vector\n",
        "zeroTarget = []\n",
        "for x in trainTarget:\n",
        "  zeroTarget.append(0)\n",
        "# create confusion matrix\n",
        "myArray = [ ]\n",
        "for x in trainTarget:\n",
        "  if x == 'no':\n",
        "    myArray.append(0)\n",
        "  else:\n",
        "    myArray.append(1)\n",
        "from sklearn.metrics import confusion_matrix\n",
        "pred = kneighs.predict(trainFormatted)\n",
        "print(\"This is the confusion matrix: \")\n",
        "print(confusion_matrix(zeroTarget, myArray))\n",
        "\n",
        "# now lets find teh AUC score\n",
        "arr = []\n",
        "for x in pred:\n",
        "  if x == 'no':\n",
        "    arr.append(0)\n",
        "  else:\n",
        "    arr.append(1)\n",
        "from sklearn.metrics import roc_auc_score\n",
        "print(\"THis is our area under the curve score: \")\n",
        "print(roc_auc_score(myArray, arr))"
      ],
      "execution_count": null,
      "outputs": [
        {
          "output_type": "stream",
          "text": [
            "This is the confusion matrix: \n",
            "[[3668  451]\n",
            " [   0    0]]\n",
            "THis is our area under the curve score: \n",
            "0.5858654704074552\n"
          ],
          "name": "stdout"
        }
      ]
    },
    {
      "cell_type": "markdown",
      "metadata": {
        "id": "InuUqC3DZY3F"
      },
      "source": [
        "###7. Create a confusion matrix and find the AUC for each of the classifiers of experiment (4). Is the best classifier the one with the highest accuracy? ###\n"
      ]
    },
    {
      "cell_type": "code",
      "metadata": {
        "id": "ykt7_J9fZsdk",
        "colab": {
          "base_uri": "https://localhost:8080/"
        },
        "outputId": "27ae89d5-1284-412f-8796-6038de205ccd"
      },
      "source": [
        "#confusion matrix and AUC score for Naive bayes classifier\n",
        "gnb_pred = gnb.predict(trainFormatted)\n",
        "print(\"This is oiur confusion matrix for Naives Bayes: \")\n",
        "print(confusion_matrix(y,gnb_pred ))\n",
        "\n",
        "print(\"This is our AUC score: \")\n",
        "\n",
        "num_y = []\n",
        "for x in y:\n",
        "  if x == 'no':\n",
        "    num_y.append(0)\n",
        "  else:\n",
        "    num_y.append(1)\n",
        "\n",
        "num_gnb_pred = []\n",
        "for x in gnb_pred:\n",
        "  if x == 'no':\n",
        "    num_gnb_pred.append(0)\n",
        "  else:\n",
        "    num_gnb_pred.append(1)\n",
        "\n",
        "\n",
        "print(roc_auc_score(num_y, num_gnb_pred))\n",
        "\n",
        "\n",
        "# comfusion matric and AUC score for KNN\n",
        "kneighs_pred = kneighs.predict(trainFormatted)\n",
        "print(\"This is the confusion matrix: \")\n",
        "print(confusion_matrix(y, kneighs_pred))\n",
        "\n",
        "print(\"THis is our AUC score for KNN\")\n",
        "num_kneighs_pred = []\n",
        "for x in kneighs_pred:\n",
        "  if x =='no':\n",
        "    num_kneighs_pred.append(0)\n",
        "  else:\n",
        "    num_kneighs_pred.append(1)\n",
        "print(roc_auc_score(num_y, num_kneighs_pred))\n",
        "\n",
        "# confusion matrix and AUC score for SVM\n",
        "\n",
        "svc_pred = svc.predict(trainFormatted)\n",
        "\n",
        "print(\"THis is our confusion matrix for SVM: \")\n",
        "print(confusion_matrix(y, svc_pred))\n",
        "\n",
        "print(\"This is our AUC score for SVM: \")\n",
        "num_svc_pred = []\n",
        "for x in svc_pred:\n",
        "  if x == 'no':\n",
        "    num_svc_pred.append(0)\n",
        "  else:\n",
        "    num_svc_pred.append(1)\n",
        "print(roc_auc_score(num_y, num_svc_pred))"
      ],
      "execution_count": null,
      "outputs": [
        {
          "output_type": "stream",
          "text": [
            "This is oiur confusion matrix for Naives Bayes: \n",
            "[[ 508 3160]\n",
            " [  17  434]]\n",
            "This is our AUC score: \n",
            "0.5504005396948982\n",
            "This is the confusion matrix: \n",
            "[[3631   37]\n",
            " [ 369   82]]\n",
            "THis is our AUC score for KNN\n",
            "0.5858654704074552\n",
            "THis is our confusion matrix for SVM: \n",
            "[[3655   13]\n",
            " [ 322  129]]\n",
            "This is our AUC score for SVM: \n",
            "0.6412434381853486\n"
          ],
          "name": "stdout"
        }
      ]
    },
    {
      "cell_type": "markdown",
      "metadata": {
        "id": "G1YXOIkkOdAE"
      },
      "source": [
        "##There is a correlation between accuracy and the best classifier as the accuracy increases our classifier is also a bettter prediction. However it still produces sub-standard results. ##"
      ]
    },
    {
      "cell_type": "markdown",
      "metadata": {
        "id": "6pImkOmYZsyL"
      },
      "source": [
        "###8. One of the easiest ways to deal with an unbalanced dataset is random oversampling. This can be done with an imblearn.over_sampling.RandomOverSampler object. Use fit_resample() to generate a balanced training set.###"
      ]
    },
    {
      "cell_type": "code",
      "metadata": {
        "id": "_lXzHF6XZwbg",
        "colab": {
          "base_uri": "https://localhost:8080/"
        },
        "outputId": "b3450e41-fb96-4921-9fed-04c3991537bd"
      },
      "source": [
        "from imblearn.over_sampling import RandomOverSampler\n",
        "ros = RandomOverSampler(random_state =42 )\n",
        "\n",
        "X_resampled, y_resampled= ros.fit_resample(trainFormatted, trainTarget)\n"
      ],
      "execution_count": null,
      "outputs": [
        {
          "output_type": "stream",
          "text": [
            "/usr/local/lib/python3.6/dist-packages/sklearn/utils/deprecation.py:87: FutureWarning: Function safe_indexing is deprecated; safe_indexing is deprecated in version 0.22 and will be removed in version 0.24.\n",
            "  warnings.warn(msg, category=FutureWarning)\n"
          ],
          "name": "stderr"
        }
      ]
    },
    {
      "cell_type": "markdown",
      "metadata": {
        "id": "ER6I222aZxBJ"
      },
      "source": [
        "###9. Repeat experiments (4) and (7) on the balanced training set of experiment (8). Which classifier performs the best, and how much better is its performance? ###\n"
      ]
    },
    {
      "cell_type": "code",
      "metadata": {
        "id": "4-8a9pKTaAJu",
        "colab": {
          "base_uri": "https://localhost:8080/"
        },
        "outputId": "11153098-8670-4b6a-d8a0-ae8d441647bb"
      },
      "source": [
        "# Naive Bayes\n",
        "gnb = GaussianNB()\n",
        "\n",
        "gnb.fit(X_resampled, y_resampled)\n",
        "print(\"Naive Bayes Score:\")\n",
        "print(gnb.score(testFormatted, testTarget))\n",
        "# KNN\n",
        "kneighs = KNeighborsClassifier(n_neighbors = 64)\n",
        "\n",
        "kneighs.fit(X_resampled,y_resampled)\n",
        "print(\"KNN Score: \")\n",
        "print(kneighs.score(testFormatted, testTarget))\n",
        "# SVM\n",
        "svc = SVC()\n",
        "\n",
        "svc.fit(X_resampled,y_resampled)\n",
        "\n",
        "print(\"SVM Score: \" )\n",
        "print(svc.score(testFormatted, testTarget))\n",
        "\n",
        "# lets see the yes and no's\n",
        "noCount = 0\n",
        "yesCount = 0\n",
        "for x in X_resampled:\n",
        "  if x == 'no':\n",
        "    noCount +=1\n",
        "  else:\n",
        "    yesCount += 1\n",
        "\n",
        "print(\"NOs\")\n",
        "print(noCount)\n",
        "\n",
        "print(\"Yes\")\n",
        "print(yesCount)\n",
        "\n",
        "# create a Confusion Matrix\n",
        "#confusion matrix and AUC score for Naive bayes classifier\n",
        "gnb_pred = gnb.predict(trainFormatted)\n",
        "print(\"This is oiur confusion matrix for Naives Bayes: \")\n",
        "print(confusion_matrix(y,gnb_pred ))\n",
        "\n",
        "print(\"This is our AUC score: \")\n",
        "\n",
        "num_y = []\n",
        "for x in y:\n",
        "  if x == 'no':\n",
        "    num_y.append(0)\n",
        "  else:\n",
        "    num_y.append(1)\n",
        "\n",
        "num_gnb_pred = []\n",
        "for x in gnb_pred:\n",
        "  if x == 'no':\n",
        "    num_gnb_pred.append(0)\n",
        "  else:\n",
        "    num_gnb_pred.append(1)\n",
        "\n",
        "\n",
        "print(roc_auc_score(num_y, num_gnb_pred))\n",
        "\n",
        "\n",
        "# comfusion matric and AUC score for KNN\n",
        "kneighs_pred = kneighs.predict(trainFormatted)\n",
        "print(\"This is the confusion matrix: \")\n",
        "print(confusion_matrix(y, kneighs_pred))\n",
        "\n",
        "print(\"THis is our AUC score for KNN\")\n",
        "num_kneighs_pred = []\n",
        "for x in kneighs_pred:\n",
        "  if x =='no':\n",
        "    num_kneighs_pred.append(0)\n",
        "  else:\n",
        "    num_kneighs_pred.append(1)\n",
        "print(roc_auc_score(num_y, num_kneighs_pred))\n",
        "\n",
        "# confusion matrix and AUC score for SVM\n",
        "\n",
        "svc_pred = svc.predict(trainFormatted)\n",
        "\n",
        "print(\"THis is our confusion matrix for SVM: \")\n",
        "print(confusion_matrix(y, svc_pred))\n",
        "\n",
        "print(\"This is our AUC score for SVM: \")\n",
        "num_svc_pred = []\n",
        "for x in svc_pred:\n",
        "  if x == 'no':\n",
        "    num_svc_pred.append(0)\n",
        "  else:\n",
        "    num_svc_pred.append(1)\n",
        "print(roc_auc_score(num_y, num_svc_pred))"
      ],
      "execution_count": null,
      "outputs": [
        {
          "output_type": "stream",
          "text": [
            "Naive Bayes Score:\n",
            "0.8873458288821987\n",
            "KNN Score: \n",
            "0.7877779935903662\n",
            "SVM Score: \n",
            "0.8400019423132952\n",
            "NOs\n",
            "0\n",
            "Yes\n",
            "7336\n"
          ],
          "name": "stdout"
        },
        {
          "output_type": "stream",
          "text": [
            "/usr/local/lib/python3.6/dist-packages/ipykernel_launcher.py:25: FutureWarning: elementwise comparison failed; returning scalar instead, but in the future will perform elementwise comparison\n"
          ],
          "name": "stderr"
        },
        {
          "output_type": "stream",
          "text": [
            "This is oiur confusion matrix for Naives Bayes: \n",
            "[[ 390 3278]\n",
            " [  14  437]]\n",
            "This is our AUC score: \n",
            "0.5376414220670411\n",
            "This is the confusion matrix: \n",
            "[[2992  676]\n",
            " [ 153  298]]\n",
            "THis is our AUC score for KNN\n",
            "0.738228630427476\n",
            "THis is our confusion matrix for SVM: \n",
            "[[3354  314]\n",
            " [  88  363]]\n",
            "This is our AUC score for SVM: \n",
            "0.8596364071601458\n"
          ],
          "name": "stdout"
        }
      ]
    }
  ]
}